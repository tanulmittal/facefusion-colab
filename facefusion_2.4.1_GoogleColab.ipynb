{
 "cells": [
  {
   "cell_type": "markdown",
   "metadata": {
    "id": "hgVreYca3LcQ"
   },
   "source": [
    "FaceFusion 2.4.1"
   ]
  },
  {
   "cell_type": "markdown",
   "metadata": {
    "id": "28qKtK7F3bzl"
   },
   "source": [
    "Install"
   ]
  },
  {
   "cell_type": "code",
   "execution_count": null,
   "metadata": {
    "id": "ZlrnUA3i3gMB"
   },
   "outputs": [],
   "source": [
    "!apt-get install nvidia-cuda-toolkit\n",
    "!git clone https://tinyurl.com/2yv5aar9 --branch 2.4.1 --single-branch\n",
    "%cd /content/2yv5aar9\n",
    "!python install.py --onnxruntime cuda-11.8 --skip-venv"
   ]
  },
  {
   "cell_type": "markdown",
   "metadata": {
    "id": "J6HT5NpVcZOC"
   },
   "source": [
    "Setup"
   ]
  },
  {
   "cell_type": "code",
   "execution_count": null,
   "metadata": {
    "id": "YVHiNI-bb6IB"
   },
   "outputs": [],
   "source": [
    "!ssh-keygen -q -t rsa -N '' -f ~/.ssh/id_rsa <<<y\n",
    "!ssh-keyscan -t rsa remote.moe >> ~/.ssh/known_hosts"
   ]
  },
  {
   "cell_type": "markdown",
   "metadata": {
    "id": "vsfWtUCSGrrl"
   },
   "source": [
    "Run"
   ]
  },
  {
   "cell_type": "code",
   "execution_count": null,
   "metadata": {
    "id": "YVHiNI-bb6IA"
   },
   "outputs": [],
   "source": [
    "%cd /content/2yv5aar9\n",
    "!python run.py --execution-providers cuda & ssh -R 80:127.0.0.1:7860 remote.moe"
   ]
  }
 ],
 "metadata": {
  "accelerator": "GPU",
  "colab": {
   "provenance": [
    {
     "file_id": "17FwlS26zvLhXtiEGvdC7EiC2lUToBJ5v",
     "timestamp": 1694089316266
    }
   ]
  },
  "kernelspec": {
   "display_name": "Python",
   "name": "python3"
  },
  "language_info": {
   "name": "python"
  }
 },
 "nbformat": 4,
 "nbformat_minor": 0
}
